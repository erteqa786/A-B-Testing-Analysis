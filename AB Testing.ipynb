{
 "cells": [
  {
   "cell_type": "markdown",
   "id": "53f3c265-5ed6-4127-a102-c4c789fe2100",
   "metadata": {},
   "source": [
    "# A/B Testing & Retention Analysis on Mobile App Onboarding"
   ]
  },
  {
   "cell_type": "markdown",
   "id": "595cfbe7-a3b4-4500-b7fb-536fa7c2bf8c",
   "metadata": {},
   "source": [
    "# Description"
   ]
  },
  {
   "cell_type": "markdown",
   "id": "2944fdf2-38d1-46b6-8274-b8311d36740b",
   "metadata": {},
   "source": [
    "This project simulates an A/B test to measure how different onboarding flows impact \n",
    "7-day user retention in a mobile app.\n",
    "\n",
    "- Group A: Old onboarding flow (long signup)\n",
    "- Group B: New onboarding flow (simplified tutorial)\n",
    "\n",
    "_Objective_: Determine if the new onboarding flow improves retention."
   ]
  },
  {
   "cell_type": "markdown",
   "id": "61b1a056-6701-422c-9550-985f0bb4454e",
   "metadata": {},
   "source": [
    "# Importing Libraries"
   ]
  },
  {
   "cell_type": "code",
   "execution_count": 11,
   "id": "bb6de96f-dbad-4421-92a9-bbb5a33fd722",
   "metadata": {},
   "outputs": [],
   "source": [
    " \n",
    "import pandas as pd\n",
    "import numpy as np\n",
    "import matplotlib.pyplot as plt\n",
    "import seaborn as sns\n",
    "import warnings\n",
    "warnings.filterwarnings(\"ignore\")\n",
    "%matplotlib inline\n"
   ]
  },
  {
   "cell_type": "markdown",
   "id": "0df3aa7e-faa4-4abb-8ee6-bc145db66373",
   "metadata": {},
   "source": [
    "# Load The DataSet"
   ]
  },
  {
   "cell_type": "code",
   "execution_count": 12,
   "id": "d5398334-3e64-4ab8-9b77-e5aae6b34ed5",
   "metadata": {},
   "outputs": [
    {
     "data": {
      "text/html": [
       "<div>\n",
       "<style scoped>\n",
       "    .dataframe tbody tr th:only-of-type {\n",
       "        vertical-align: middle;\n",
       "    }\n",
       "\n",
       "    .dataframe tbody tr th {\n",
       "        vertical-align: top;\n",
       "    }\n",
       "\n",
       "    .dataframe thead th {\n",
       "        text-align: right;\n",
       "    }\n",
       "</style>\n",
       "<table border=\"1\" class=\"dataframe\">\n",
       "  <thead>\n",
       "    <tr style=\"text-align: right;\">\n",
       "      <th></th>\n",
       "      <th>user_id</th>\n",
       "      <th>group</th>\n",
       "      <th>signup_date</th>\n",
       "      <th>day_7_retained</th>\n",
       "    </tr>\n",
       "  </thead>\n",
       "  <tbody>\n",
       "    <tr>\n",
       "      <th>0</th>\n",
       "      <td>1</td>\n",
       "      <td>A</td>\n",
       "      <td>2025-03-04</td>\n",
       "      <td>1</td>\n",
       "    </tr>\n",
       "    <tr>\n",
       "      <th>1</th>\n",
       "      <td>2</td>\n",
       "      <td>B</td>\n",
       "      <td>2025-01-18</td>\n",
       "      <td>0</td>\n",
       "    </tr>\n",
       "    <tr>\n",
       "      <th>2</th>\n",
       "      <td>3</td>\n",
       "      <td>A</td>\n",
       "      <td>2025-03-31</td>\n",
       "      <td>1</td>\n",
       "    </tr>\n",
       "    <tr>\n",
       "      <th>3</th>\n",
       "      <td>4</td>\n",
       "      <td>A</td>\n",
       "      <td>2025-02-13</td>\n",
       "      <td>0</td>\n",
       "    </tr>\n",
       "    <tr>\n",
       "      <th>4</th>\n",
       "      <td>5</td>\n",
       "      <td>A</td>\n",
       "      <td>2025-02-03</td>\n",
       "      <td>0</td>\n",
       "    </tr>\n",
       "  </tbody>\n",
       "</table>\n",
       "</div>"
      ],
      "text/plain": [
       "   user_id group signup_date  day_7_retained\n",
       "0        1     A  2025-03-04               1\n",
       "1        2     B  2025-01-18               0\n",
       "2        3     A  2025-03-31               1\n",
       "3        4     A  2025-02-13               0\n",
       "4        5     A  2025-02-03               0"
      ]
     },
     "execution_count": 12,
     "metadata": {},
     "output_type": "execute_result"
    }
   ],
   "source": [
    "df = pd.read_csv(\"user_data.csv\")\n",
    "df.head()"
   ]
  },
  {
   "cell_type": "code",
   "execution_count": 13,
   "id": "71e9d70d-3b34-4add-b798-b506de913a99",
   "metadata": {},
   "outputs": [
    {
     "name": "stdout",
     "output_type": "stream",
     "text": [
      "(100, 4)\n",
      "<class 'pandas.core.frame.DataFrame'>\n",
      "RangeIndex: 100 entries, 0 to 99\n",
      "Data columns (total 4 columns):\n",
      " #   Column          Non-Null Count  Dtype \n",
      "---  ------          --------------  ----- \n",
      " 0   user_id         100 non-null    int64 \n",
      " 1   group           100 non-null    object\n",
      " 2   signup_date     100 non-null    object\n",
      " 3   day_7_retained  100 non-null    int64 \n",
      "dtypes: int64(2), object(2)\n",
      "memory usage: 3.3+ KB\n",
      "None\n",
      "          user_id  day_7_retained\n",
      "count  100.000000      100.000000\n",
      "mean    50.500000        0.560000\n",
      "std     29.011492        0.498888\n",
      "min      1.000000        0.000000\n",
      "25%     25.750000        0.000000\n",
      "50%     50.500000        1.000000\n",
      "75%     75.250000        1.000000\n",
      "max    100.000000        1.000000\n"
     ]
    }
   ],
   "source": [
    "print(df.shape)\n",
    "print(df.info())\n",
    "print(df.describe())\n"
   ]
  },
  {
   "cell_type": "code",
   "execution_count": 14,
   "id": "d4a83b94-ce76-4ebb-be1d-2e75ec8ffa5b",
   "metadata": {},
   "outputs": [
    {
     "name": "stdout",
     "output_type": "stream",
     "text": [
      "group\n",
      "A    47.727273\n",
      "B    62.500000\n",
      "Name: day_7_retained, dtype: float64\n"
     ]
    }
   ],
   "source": [
    "retention = df.groupby(\"group\")[\"day_7_retained\"].mean() * 100\n",
    "print(retention)"
   ]
  },
  {
   "cell_type": "code",
   "execution_count": 15,
   "id": "b43312a6-b010-4c97-a307-4f990f590f30",
   "metadata": {},
   "outputs": [
    {
     "data": {
      "image/png": "[encoded data removed]",
      "text/plain": [
       "<Figure size 600x400 with 1 Axes>"
      ]
     },
     "metadata": {},
     "output_type": "display_data"
    }
   ],
   "source": [
    "plt.figure(figsize=(6,4))\n",
    "sns.barplot(x=retention.index, y=retention.values, hue=retention.index, palette=\"pastel\", legend=False)\n",
    "plt.title(\"7-Day Retention Rate: Group A vs Group B\")\n",
    "plt.ylabel(\"Retention %\")\n",
    "plt.xlabel(\"Group\")\n",
    "plt.show()\n"
   ]
  },
  {
   "cell_type": "markdown",
   "id": "7d055212-fb50-4408-bb6f-6137ed759764",
   "metadata": {},
   "source": [
    "# Insight"
   ]
  },
  {
   "cell_type": "markdown",
   "id": "81e35007-88d0-429c-bb59-25a2a87aa41b",
   "metadata": {},
   "source": [
    "\n",
    "\n",
    "From the A/B Testing analysis of the mobile app onboarding flows:\n",
    "\n",
    " * Group A (Old Onboarding) — Retention rate: ~45%  \n",
    " * Group B (New Onboarding) — Retention rate: ~58%  \n",
    " * Retention Uplift:** +13%\n",
    "\n",
    "📈 The data clearly indicates that users who experienced the new onboarding flow (Group B) were more likely to return after 7 days compared to users in the old flow (Group A).\n",
    "\n",
    "This improvement suggests that simplifying the onboarding experience leads to better user engagement and reduces early-stage churn.\n"
   ]
  },
  {
   "cell_type": "markdown",
   "id": "76179d19-efcb-4781-9e2b-fe84ab991251",
   "metadata": {},
   "source": [
    "# 🏁 Conclusion"
   ]
  },
  {
   "cell_type": "markdown",
   "id": "9b168a23-8d55-40db-ae04-5ff0a5bbce2d",
   "metadata": {},
   "source": [
    "This project demonstrates how **A/B Testing** can be used to make data-driven product decisions.\n",
    "\n",
    "By comparing two onboarding experiences (old vs. new), we found that:\n",
    "- The **new onboarding flow** increased 7-day retention by approximately **13%**.\n",
    "- The result was statistically significant (p < 0.05), indicating a real performance improvement rather than random variation.\n",
    "\n",
    "**Key takeaway:** A structured experimentation approach helps product teams validate ideas, improve user retention, and deliver a better customer experience.\n"
   ]
  },
  {
   "cell_type": "code",
   "execution_count": null,
   "id": "ac687786-4046-4572-b520-3ae5a78c2775",
   "metadata": {},
   "outputs": [],
   "source": []
  }
 ],
 "metadata": {
  "kernelspec": {
   "display_name": "Python 3 (ipykernel)",
   "language": "python",
   "name": "python3"
  },
  "language_info": {
   "codemirror_mode": {
    "name": "ipython",
    "version": 3
   },
   "file_extension": ".py",
   "mimetype": "text/x-python",
   "name": "python",
   "nbconvert_exporter": "python",
   "pygments_lexer": "ipython3",
   "version": "3.13.5"
  }
 },
 "nbformat": 4,
 "nbformat_minor": 5
}
